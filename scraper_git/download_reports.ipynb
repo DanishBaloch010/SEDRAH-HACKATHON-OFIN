{
 "cells": [
  {
   "cell_type": "markdown",
   "id": "7863526e",
   "metadata": {},
   "source": [
    "# use this code to download pdfs mentioned in csv"
   ]
  },
  {
   "cell_type": "code",
   "execution_count": null,
   "id": "92557289",
   "metadata": {},
   "outputs": [],
   "source": [
    "import pandas as pd\n",
    "\n",
    "data = pd.read_csv(r'cleaned_company_pdf_urls.csv')"
   ]
  },
  {
   "cell_type": "code",
   "execution_count": null,
   "id": "d60a60cf",
   "metadata": {},
   "outputs": [],
   "source": [
    "display(data)"
   ]
  },
  {
   "cell_type": "code",
   "execution_count": null,
   "id": "ec5fb2c6",
   "metadata": {
    "scrolled": true
   },
   "outputs": [],
   "source": [
    "import os\n",
    "import requests\n",
    "import pandas as pd\n",
    "from concurrent.futures import ThreadPoolExecutor\n",
    "\n",
    "data = pd.read_csv('cleaned_company_pdf_urls.csv')[0:3000]\n",
    "# data = pd.read_csv('cleaned_company_pdf_urls.csv')\n",
    "\n",
    "def download_pdf(url_comp_pdf_tuple):\n",
    "    idx, comp_url, pdf_url = url_comp_pdf_tuple\n",
    "    response = requests.get(pdf_url)\n",
    "    if response.status_code == 200:\n",
    "        filename = f\"reports/downloaded_{idx}.pdf\"\n",
    "        with open(filename, 'wb') as f:\n",
    "            f.write(response.content)\n",
    "        print(f\"idx :{idx} Downloaded PDF {pdf_url} successfully.\")\n",
    "        return (idx, comp_url, pdf_url, filename)\n",
    "    else:\n",
    "        print(f\"idx :{idx} Failed to download PDF {pdf_url}. Status code: {response.status_code}\")\n",
    "        return (idx, comp_url, pdf_url, None)\n",
    "\n",
    "# Use ThreadPoolExecutor to download PDFs concurrently\n",
    "with ThreadPoolExecutor() as executor:\n",
    "    url_comp_pdf_tuples = [(idx, comp_url, pdf_url) for idx, comp_url, pdf_url in data[['idx', 'comp_url', 'pdf_url']].itertuples(index=False)]\n",
    "    results = executor.map(download_pdf, url_comp_pdf_tuples)\n",
    "\n",
    "# Update the DataFrame with downloaded filename\n",
    "downloaded_files = []\n",
    "for result in results:\n",
    "    idx, comp_url, pdf_url, filename = result\n",
    "    if filename:\n",
    "        downloaded_files.append(filename)\n",
    "        data.loc[data['idx'] == idx, 'downloaded_filename'] = filename\n",
    "\n",
    "# Save the updated DataFrame to a CSV file\n",
    "data.to_csv('final_idx_compUrl_pdfUrl_filename.csv', index=False)\n",
    "\n",
    "print(\"PDFs downloaded successfully.\")\n"
   ]
  },
  {
   "cell_type": "code",
   "execution_count": null,
   "id": "696e2350",
   "metadata": {},
   "outputs": [],
   "source": []
  },
  {
   "cell_type": "code",
   "execution_count": null,
   "id": "1345718d",
   "metadata": {},
   "outputs": [],
   "source": []
  },
  {
   "cell_type": "code",
   "execution_count": null,
   "id": "19e582e8",
   "metadata": {},
   "outputs": [],
   "source": []
  }
 ],
 "metadata": {
  "kernelspec": {
   "display_name": "Python 3 (ipykernel)",
   "language": "python",
   "name": "python3"
  },
  "language_info": {
   "codemirror_mode": {
    "name": "ipython",
    "version": 3
   },
   "file_extension": ".py",
   "mimetype": "text/x-python",
   "name": "python",
   "nbconvert_exporter": "python",
   "pygments_lexer": "ipython3",
   "version": "3.10.12"
  }
 },
 "nbformat": 4,
 "nbformat_minor": 5
}
