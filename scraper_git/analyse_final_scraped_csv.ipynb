{
 "cells": [
  {
   "cell_type": "code",
   "execution_count": 1,
   "id": "39d21b44",
   "metadata": {},
   "outputs": [],
   "source": [
    "import pandas as pd"
   ]
  },
  {
   "cell_type": "code",
   "execution_count": null,
   "id": "f6736e8c",
   "metadata": {},
   "outputs": [],
   "source": [
    "# there  are total of 6763 valid companies and their valid pdf urls. pdfs are annual reports. "
   ]
  },
  {
   "cell_type": "code",
   "execution_count": 2,
   "id": "a374c0f2",
   "metadata": {},
   "outputs": [],
   "source": [
    "data = pd.read_csv(r'company_pdf_urls.csv')"
   ]
  },
  {
   "cell_type": "code",
   "execution_count": 3,
   "id": "69a179bd",
   "metadata": {},
   "outputs": [
    {
     "data": {
      "text/html": [
       "<div>\n",
       "<style scoped>\n",
       "    .dataframe tbody tr th:only-of-type {\n",
       "        vertical-align: middle;\n",
       "    }\n",
       "\n",
       "    .dataframe tbody tr th {\n",
       "        vertical-align: top;\n",
       "    }\n",
       "\n",
       "    .dataframe thead th {\n",
       "        text-align: right;\n",
       "    }\n",
       "</style>\n",
       "<table border=\"1\" class=\"dataframe\">\n",
       "  <thead>\n",
       "    <tr style=\"text-align: right;\">\n",
       "      <th></th>\n",
       "      <th>idx</th>\n",
       "      <th>comp_url</th>\n",
       "      <th>pdf_url</th>\n",
       "    </tr>\n",
       "  </thead>\n",
       "  <tbody>\n",
       "    <tr>\n",
       "      <th>0</th>\n",
       "      <td>0</td>\n",
       "      <td>https://www.annualreports.com//Company/aeris-e...</td>\n",
       "      <td>https://www.annualreports.com//Click/32223</td>\n",
       "    </tr>\n",
       "    <tr>\n",
       "      <th>1</th>\n",
       "      <td>1</td>\n",
       "      <td>https://www.annualreports.com//Company/scpharm...</td>\n",
       "      <td>https://www.annualreports.com//Click/26736</td>\n",
       "    </tr>\n",
       "    <tr>\n",
       "      <th>2</th>\n",
       "      <td>2</td>\n",
       "      <td>https://www.annualreports.com//Company/1895-ba...</td>\n",
       "      <td>https://www.annualreports.com//Click/33158</td>\n",
       "    </tr>\n",
       "    <tr>\n",
       "      <th>3</th>\n",
       "      <td>3</td>\n",
       "      <td>https://www.annualreports.com//Company/1life-h...</td>\n",
       "      <td>https://www.annualreports.com//Click/28024</td>\n",
       "    </tr>\n",
       "    <tr>\n",
       "      <th>4</th>\n",
       "      <td>4</td>\n",
       "      <td>https://www.annualreports.com//Company/1spatia...</td>\n",
       "      <td>https://www.annualreports.com//Click/30804</td>\n",
       "    </tr>\n",
       "    <tr>\n",
       "      <th>...</th>\n",
       "      <td>...</td>\n",
       "      <td>...</td>\n",
       "      <td>...</td>\n",
       "    </tr>\n",
       "    <tr>\n",
       "      <th>6881</th>\n",
       "      <td>7093</td>\n",
       "      <td>https://www.annualreports.com//Company/zurcher...</td>\n",
       "      <td>https://www.annualreports.com//Click/30334</td>\n",
       "    </tr>\n",
       "    <tr>\n",
       "      <th>6882</th>\n",
       "      <td>7094</td>\n",
       "      <td>https://www.annualreports.com//Company/zurn-el...</td>\n",
       "      <td>https://www.annualreports.com//Click/24362</td>\n",
       "    </tr>\n",
       "    <tr>\n",
       "      <th>6883</th>\n",
       "      <td>7095</td>\n",
       "      <td>https://www.annualreports.com//Company/zynerba...</td>\n",
       "      <td>https://www.annualreports.com//Click/26079</td>\n",
       "    </tr>\n",
       "    <tr>\n",
       "      <th>6884</th>\n",
       "      <td>7096</td>\n",
       "      <td>https://www.annualreports.com//Company/zynga-inc</td>\n",
       "      <td>https://www.annualreports.com//Click/20145</td>\n",
       "    </tr>\n",
       "    <tr>\n",
       "      <th>6885</th>\n",
       "      <td>7097</td>\n",
       "      <td>https://www.annualreports.com//Company/zyversa...</td>\n",
       "      <td>https://www.annualreports.com//Click/35120</td>\n",
       "    </tr>\n",
       "  </tbody>\n",
       "</table>\n",
       "<p>6886 rows × 3 columns</p>\n",
       "</div>"
      ],
      "text/plain": [
       "       idx                                           comp_url  \\\n",
       "0        0  https://www.annualreports.com//Company/aeris-e...   \n",
       "1        1  https://www.annualreports.com//Company/scpharm...   \n",
       "2        2  https://www.annualreports.com//Company/1895-ba...   \n",
       "3        3  https://www.annualreports.com//Company/1life-h...   \n",
       "4        4  https://www.annualreports.com//Company/1spatia...   \n",
       "...    ...                                                ...   \n",
       "6881  7093  https://www.annualreports.com//Company/zurcher...   \n",
       "6882  7094  https://www.annualreports.com//Company/zurn-el...   \n",
       "6883  7095  https://www.annualreports.com//Company/zynerba...   \n",
       "6884  7096   https://www.annualreports.com//Company/zynga-inc   \n",
       "6885  7097  https://www.annualreports.com//Company/zyversa...   \n",
       "\n",
       "                                         pdf_url  \n",
       "0     https://www.annualreports.com//Click/32223  \n",
       "1     https://www.annualreports.com//Click/26736  \n",
       "2     https://www.annualreports.com//Click/33158  \n",
       "3     https://www.annualreports.com//Click/28024  \n",
       "4     https://www.annualreports.com//Click/30804  \n",
       "...                                          ...  \n",
       "6881  https://www.annualreports.com//Click/30334  \n",
       "6882  https://www.annualreports.com//Click/24362  \n",
       "6883  https://www.annualreports.com//Click/26079  \n",
       "6884  https://www.annualreports.com//Click/20145  \n",
       "6885  https://www.annualreports.com//Click/35120  \n",
       "\n",
       "[6886 rows x 3 columns]"
      ]
     },
     "metadata": {},
     "output_type": "display_data"
    }
   ],
   "source": [
    "display(data)"
   ]
  },
  {
   "cell_type": "code",
   "execution_count": 10,
   "id": "eee0f3d9",
   "metadata": {},
   "outputs": [
    {
     "name": "stdout",
     "output_type": "stream",
     "text": [
      "Number of unique PDF URLs: 6764\n"
     ]
    }
   ],
   "source": [
    "unique_pdf_urls = data['pdf_url'].nunique()\n",
    "print(\"Number of unique PDF URLs:\", unique_pdf_urls)\n"
   ]
  },
  {
   "cell_type": "code",
   "execution_count": 18,
   "id": "1e5e43d2",
   "metadata": {},
   "outputs": [
    {
     "name": "stdout",
     "output_type": "stream",
     "text": [
      "Short PDF URLs:\n",
      "123\n",
      "{'NO_PDF'}\n"
     ]
    }
   ],
   "source": [
    "# to find our which compnay pdf url is not fetched\n",
    "# they should be 'NO_PDF' , '404_ERROR' or 'EMPTY'\n",
    "short_pdf_urls = data[data['pdf_url'].str.len() <= 12]['pdf_url']\n",
    "print(\"Short PDF URLs:\")\n",
    "print(len(short_pdf_urls))\n",
    "print(set(short_pdf_urls))"
   ]
  },
  {
   "cell_type": "code",
   "execution_count": 19,
   "id": "900b1855",
   "metadata": {},
   "outputs": [
    {
     "data": {
      "text/plain": [
       "6763"
      ]
     },
     "execution_count": 19,
     "metadata": {},
     "output_type": "execute_result"
    }
   ],
   "source": [
    "6886 - len(short_pdf_urls)"
   ]
  },
  {
   "cell_type": "code",
   "execution_count": 20,
   "id": "6f6e35b9",
   "metadata": {},
   "outputs": [],
   "source": [
    "data_filtered = data[data['pdf_url'] != 'NO_PDF']\n"
   ]
  },
  {
   "cell_type": "code",
   "execution_count": 21,
   "id": "ef5e95e5",
   "metadata": {},
   "outputs": [
    {
     "data": {
      "text/html": [
       "<div>\n",
       "<style scoped>\n",
       "    .dataframe tbody tr th:only-of-type {\n",
       "        vertical-align: middle;\n",
       "    }\n",
       "\n",
       "    .dataframe tbody tr th {\n",
       "        vertical-align: top;\n",
       "    }\n",
       "\n",
       "    .dataframe thead th {\n",
       "        text-align: right;\n",
       "    }\n",
       "</style>\n",
       "<table border=\"1\" class=\"dataframe\">\n",
       "  <thead>\n",
       "    <tr style=\"text-align: right;\">\n",
       "      <th></th>\n",
       "      <th>idx</th>\n",
       "      <th>comp_url</th>\n",
       "      <th>pdf_url</th>\n",
       "    </tr>\n",
       "  </thead>\n",
       "  <tbody>\n",
       "    <tr>\n",
       "      <th>0</th>\n",
       "      <td>0</td>\n",
       "      <td>https://www.annualreports.com//Company/aeris-e...</td>\n",
       "      <td>https://www.annualreports.com//Click/32223</td>\n",
       "    </tr>\n",
       "    <tr>\n",
       "      <th>1</th>\n",
       "      <td>1</td>\n",
       "      <td>https://www.annualreports.com//Company/scpharm...</td>\n",
       "      <td>https://www.annualreports.com//Click/26736</td>\n",
       "    </tr>\n",
       "    <tr>\n",
       "      <th>2</th>\n",
       "      <td>2</td>\n",
       "      <td>https://www.annualreports.com//Company/1895-ba...</td>\n",
       "      <td>https://www.annualreports.com//Click/33158</td>\n",
       "    </tr>\n",
       "    <tr>\n",
       "      <th>3</th>\n",
       "      <td>3</td>\n",
       "      <td>https://www.annualreports.com//Company/1life-h...</td>\n",
       "      <td>https://www.annualreports.com//Click/28024</td>\n",
       "    </tr>\n",
       "    <tr>\n",
       "      <th>4</th>\n",
       "      <td>4</td>\n",
       "      <td>https://www.annualreports.com//Company/1spatia...</td>\n",
       "      <td>https://www.annualreports.com//Click/30804</td>\n",
       "    </tr>\n",
       "    <tr>\n",
       "      <th>...</th>\n",
       "      <td>...</td>\n",
       "      <td>...</td>\n",
       "      <td>...</td>\n",
       "    </tr>\n",
       "    <tr>\n",
       "      <th>6881</th>\n",
       "      <td>7093</td>\n",
       "      <td>https://www.annualreports.com//Company/zurcher...</td>\n",
       "      <td>https://www.annualreports.com//Click/30334</td>\n",
       "    </tr>\n",
       "    <tr>\n",
       "      <th>6882</th>\n",
       "      <td>7094</td>\n",
       "      <td>https://www.annualreports.com//Company/zurn-el...</td>\n",
       "      <td>https://www.annualreports.com//Click/24362</td>\n",
       "    </tr>\n",
       "    <tr>\n",
       "      <th>6883</th>\n",
       "      <td>7095</td>\n",
       "      <td>https://www.annualreports.com//Company/zynerba...</td>\n",
       "      <td>https://www.annualreports.com//Click/26079</td>\n",
       "    </tr>\n",
       "    <tr>\n",
       "      <th>6884</th>\n",
       "      <td>7096</td>\n",
       "      <td>https://www.annualreports.com//Company/zynga-inc</td>\n",
       "      <td>https://www.annualreports.com//Click/20145</td>\n",
       "    </tr>\n",
       "    <tr>\n",
       "      <th>6885</th>\n",
       "      <td>7097</td>\n",
       "      <td>https://www.annualreports.com//Company/zyversa...</td>\n",
       "      <td>https://www.annualreports.com//Click/35120</td>\n",
       "    </tr>\n",
       "  </tbody>\n",
       "</table>\n",
       "<p>6763 rows × 3 columns</p>\n",
       "</div>"
      ],
      "text/plain": [
       "       idx                                           comp_url  \\\n",
       "0        0  https://www.annualreports.com//Company/aeris-e...   \n",
       "1        1  https://www.annualreports.com//Company/scpharm...   \n",
       "2        2  https://www.annualreports.com//Company/1895-ba...   \n",
       "3        3  https://www.annualreports.com//Company/1life-h...   \n",
       "4        4  https://www.annualreports.com//Company/1spatia...   \n",
       "...    ...                                                ...   \n",
       "6881  7093  https://www.annualreports.com//Company/zurcher...   \n",
       "6882  7094  https://www.annualreports.com//Company/zurn-el...   \n",
       "6883  7095  https://www.annualreports.com//Company/zynerba...   \n",
       "6884  7096   https://www.annualreports.com//Company/zynga-inc   \n",
       "6885  7097  https://www.annualreports.com//Company/zyversa...   \n",
       "\n",
       "                                         pdf_url  \n",
       "0     https://www.annualreports.com//Click/32223  \n",
       "1     https://www.annualreports.com//Click/26736  \n",
       "2     https://www.annualreports.com//Click/33158  \n",
       "3     https://www.annualreports.com//Click/28024  \n",
       "4     https://www.annualreports.com//Click/30804  \n",
       "...                                          ...  \n",
       "6881  https://www.annualreports.com//Click/30334  \n",
       "6882  https://www.annualreports.com//Click/24362  \n",
       "6883  https://www.annualreports.com//Click/26079  \n",
       "6884  https://www.annualreports.com//Click/20145  \n",
       "6885  https://www.annualreports.com//Click/35120  \n",
       "\n",
       "[6763 rows x 3 columns]"
      ]
     },
     "metadata": {},
     "output_type": "display_data"
    }
   ],
   "source": [
    "display(data_filtered)"
   ]
  },
  {
   "cell_type": "code",
   "execution_count": 23,
   "id": "78ae76c9",
   "metadata": {},
   "outputs": [],
   "source": [
    "# data_filtered.to_csv(r'cleaned_company_pdf_urls.csv' , index=False)"
   ]
  },
  {
   "cell_type": "code",
   "execution_count": null,
   "id": "3b51af46",
   "metadata": {},
   "outputs": [],
   "source": []
  }
 ],
 "metadata": {
  "kernelspec": {
   "display_name": "Python 3 (ipykernel)",
   "language": "python",
   "name": "python3"
  },
  "language_info": {
   "codemirror_mode": {
    "name": "ipython",
    "version": 3
   },
   "file_extension": ".py",
   "mimetype": "text/x-python",
   "name": "python",
   "nbconvert_exporter": "python",
   "pygments_lexer": "ipython3",
   "version": "3.10.12"
  }
 },
 "nbformat": 4,
 "nbformat_minor": 5
}
